{
  "nbformat": 4,
  "nbformat_minor": 0,
  "metadata": {
    "colab": {
      "name": "Untitled2.ipynb",
      "provenance": []
    },
    "kernelspec": {
      "name": "python3",
      "display_name": "Python 3"
    }
  },
  "cells": [
    {
      "cell_type": "markdown",
      "metadata": {
        "id": "x_og8NITgOXG",
        "colab_type": "text"
      },
      "source": [
        "# This is a notebook template"
      ]
    },
    {
      "cell_type": "code",
      "metadata": {
        "id": "H1pCgovOf7Ub",
        "colab_type": "code",
        "outputId": "0b2e5534-96f7-457f-ade8-61dfc7810e64",
        "colab": {
          "base_uri": "https://localhost:8080/",
          "height": 52
        }
      },
      "source": [
        "a = 345\n",
        "print (4 + a)\n",
        "\n",
        "def test():\n",
        "  print(\"test\")\n",
        "\n",
        "test()\n",
        "test()\n",
        "test()\n",
        "\n"
      ],
      "execution_count": 1,
      "outputs": [
        {
          "output_type": "stream",
          "text": [
            "349\n",
            "test\n"
          ],
          "name": "stdout"
        }
      ]
    }
  ]
}